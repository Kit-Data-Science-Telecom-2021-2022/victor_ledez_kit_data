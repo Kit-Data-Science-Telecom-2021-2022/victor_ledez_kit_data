{
  "nbformat": 4,
  "nbformat_minor": 0,
  "metadata": {
    "kernelspec": {
      "display_name": "Python 3 (ipykernel)",
      "language": "python",
      "name": "python3"
    },
    "language_info": {
      "codemirror_mode": {
        "name": "ipython",
        "version": 3
      },
      "file_extension": ".py",
      "mimetype": "text/x-python",
      "name": "python",
      "nbconvert_exporter": "python",
      "pygments_lexer": "ipython3",
      "version": "3.9.2"
    },
    "colab": {
      "name": "projet4.ipynb",
      "provenance": []
    }
  },
  "cells": [
    {
      "cell_type": "markdown",
      "metadata": {
        "id": "qmF874OacUdh"
      },
      "source": [
        "# Projet 4"
      ]
    },
    {
      "cell_type": "code",
      "metadata": {
        "id": "DjOAZiLLcUdn"
      },
      "source": [
        "import requests\n",
        "from bs4 import BeautifulSoup\n",
        "import multiprocessing "
      ],
      "execution_count": 1,
      "outputs": []
    },
    {
      "cell_type": "markdown",
      "metadata": {
        "id": "1HMbye25cUdo"
      },
      "source": [
        "Ecrire une fonction `get_prices_from_url()` qui extrait des informations à partir des 2 pages ci-dessous.\n",
        "\n",
        "Exemple `URL_PAGE2` doit retourner :\n",
        "\n",
        "<pre>{'Personal': {'price': '$5', 'storage': '1GB', 'databases': 1},\n",
        "  'Small Business': {'price': '$25', 'storage': '10GB', 'databases': 5},\n",
        "  'Enterprise': {'price': '$45', 'storage': '100GB', 'databases': 25}}\n",
        "</pre>"
      ]
    },
    {
      "cell_type": "code",
      "metadata": {
        "id": "wf-JjYX-cUdo"
      },
      "source": [
        "URL_PAGE2 = \"https://kim.fspot.org/cours/page2.html\"\n",
        "URL_PAGE3 = \"https://kim.fspot.org/cours/page3.html\"\n",
        "def get_prices_from_url(url):\n",
        "    r=requests.get(url)\n",
        "    soup = BeautifulSoup(r.content)\n",
        "    prices = {}\n",
        "    div = soup.findAll('div', attrs={'class': 'pure-u-1 pure-u-md-1-'+str(int(url[-6])+1)})\n",
        "    for i in div : \n",
        "        prices[i.find('h2').text]= {\n",
        "        'price': i.find('span', {'class': 'pricing-table-price'}).text.split()[0],\n",
        "        'storage': i.findAll('li')[3].text.split()[0],\n",
        "        'databases': int(i.findAll('li')[4].text.split()[0])\n",
        "}\n",
        "    return prices"
      ],
      "execution_count": 2,
      "outputs": []
    },
    {
      "cell_type": "markdown",
      "metadata": {
        "id": "oWh9K-djcUdp"
      },
      "source": [
        "Ecrire une fonction qui extrait des informations sur une bière de beowulf.\n",
        "\n",
        "Exemple d'URL: https://www.beerwulf.com/fr-fr/p/bieres/melusine-bio.33 \n",
        "\n",
        "La fonction doit retourner :\n",
        "<pre>\n",
        "{'name': 'Mélusine Bio', 'note': 70, 'price': 38.99, 'volume': 33}\n",
        "</pre>"
      ]
    },
    {
      "cell_type": "code",
      "metadata": {
        "id": "qqwBDtBicUdp"
      },
      "source": [
        "def extract_beer_infos(url):\n",
        "    r=requests.get(url)\n",
        "    soup = BeautifulSoup(r.content)\n",
        "    div = soup.findAll('div', attrs={'class': \"product-detail-info-row mobile-header-details\"})\n",
        "    prix = soup.findAll('span', attrs={'class': \"price\"})[0].text.split()[-2]\n",
        "    infos = {\n",
        "        'name': div[0].find('h1').text,\n",
        "        'note': int(div[0].find('div', {'class': 'stars'}).attrs['data-percent']),\n",
        "        'price': float(prix.replace(\",\",\".\")),\n",
        "        'volume': int(div[0].find('span').text.split()[-2]),\n",
        "    }\n",
        "    return infos"
      ],
      "execution_count": 3,
      "outputs": []
    },
    {
      "cell_type": "code",
      "metadata": {
        "colab": {
          "base_uri": "https://localhost:8080/"
        },
        "id": "J6CipgcjcUdq",
        "outputId": "481433af-538d-4d1b-8729-f401bc63c02f"
      },
      "source": [
        "extract_beer_infos(\"https://www.beerwulf.com/fr-fr/p/bieres/melusine-bio.33\")"
      ],
      "execution_count": 4,
      "outputs": [
        {
          "output_type": "execute_result",
          "data": {
            "text/plain": [
              "{'name': 'Mélusine Bio', 'note': 70, 'price': 38.99, 'volume': 33}"
            ]
          },
          "metadata": {},
          "execution_count": 4
        }
      ]
    },
    {
      "cell_type": "markdown",
      "metadata": {
        "id": "1KqYdPVrcUds"
      },
      "source": [
        "Cette URL retourne un JSON avec une liste de bières :"
      ]
    },
    {
      "cell_type": "code",
      "metadata": {
        "id": "MU6z9Hp2cUds"
      },
      "source": [
        "URL_BEERLIST_FRANCE = \"https://www.beerwulf.com/fr-FR/api/search/searchProducts?country=France&container=Bouteille\""
      ],
      "execution_count": 5,
      "outputs": []
    },
    {
      "cell_type": "markdown",
      "metadata": {
        "id": "FZPqQD36cUdt"
      },
      "source": [
        "Ecrire une fonction qui prend l'argument cet URL retourne les informations sur une liste de bière via l'API de beowulf.\n",
        "\n",
        "Cette fonction doit retourner la liste des informations obtenues par la fonction `extract_beer_infos()` définie ci-dessus.\n",
        "\n",
        "Chercher comment optimiser cette fonction en utilisant multiprocessing.Pool pour paralléliser les accès web.\n",
        "\n",
        "Exemple de retour :\n",
        "\n",
        "<pre>[{'name': 'Gallia East IPA', 'note': 80, 'price': 42.99, 'volume': 33},\n",
        "    {'name': 'La Lager Sans Gluten de Vézelay', 'note': 60, 'price': 38.99, 'volume': 25},\n",
        "    {'name': 'Brasserie De Sutter Brin de Folie', 'note': 70, 'price': 44.99, 'volume': 33},\n",
        "    {'name': 'La Cristal IPA du Mont Blanc', 'note': 70, 'price': 44.99, 'volume': 33},\n",
        "    {'name': 'Mélusine Bio', 'note': 70, 'price': 38.99, 'volume': 33},\n",
        "    {'name': 'La Parisienne Le Titi Parisien', 'note': 70, 'price': 38.99, 'volume': 33},\n",
        "    {'name': 'Gallia Session IPA', 'note': 70, 'price': 42.99, 'volume': 33},\n",
        "    {'name': 'Ninkasi Brut IPA', 'note': 70, 'price': 44.99, 'volume': 33},\n",
        "    {'name': 'Pietra', 'note': 60, 'price': 38.99, 'volume': 33},\n",
        "    {'name': 'Desperados', 'note': 60, 'price': 35.99, 'volume': 33},\n",
        "    {'name': 'Gallia West IPA', 'note': 70, 'price': 42.99, 'volume': 33}]\n",
        "</pre>"
      ]
    },
    {
      "cell_type": "code",
      "metadata": {
        "id": "-X8-pRcPcUdu"
      },
      "source": [
        "def extract_beer_list_infos(url):\n",
        "    # Collecter les pages de bières à partir du JSON\n",
        "    beer_pages = []\n",
        "    response = requests.get(url)\n",
        "    data = response.json()\n",
        "    for i in range(len(data['items'])):\n",
        "        beer_pages.append('https://www.beerwulf.com'+ data['items'][i]['contentReference'])\n",
        "    # Sequential version (slow):\n",
        "    #beers = []\n",
        "    #for i in beer_pages: \n",
        "        #beers.append(extract_beer_infos(i))\n",
        "    # Parallel version (faster):\n",
        "    beers = []\n",
        "    with multiprocessing.Pool(5) as p:\n",
        "        beers = p.map(extract_beer_infos, beer_pages)\n",
        "    return beers"
      ],
      "execution_count": 13,
      "outputs": []
    },
    {
      "cell_type": "code",
      "metadata": {
        "id": "1olSseI9cUdu"
      },
      "source": [
        "import unittest\n",
        "\n",
        "class Lesson4Tests(unittest.TestCase):\n",
        "    def test_01_get_prices_from_url_page2(self):\n",
        "        prices = get_prices_from_url(URL_PAGE2)\n",
        "        # We should have found 3 products:\n",
        "        self.assertIsInstance(prices, dict)\n",
        "        self.assertEqual(len(prices), 3)\n",
        "        self.assertIn('Personal', prices)\n",
        "        self.assertIn('Small Business', prices)\n",
        "        self.assertIn('Enterprise', prices)\n",
        "        \n",
        "        personal = prices['Personal']\n",
        "        self.assertIn('price', personal)\n",
        "        self.assertIn('storage', personal)\n",
        "        self.assertIn('databases', personal)\n",
        "        self.assertEqual(personal['price'], '$5')\n",
        "        self.assertEqual(personal['storage'], '1GB')\n",
        "        self.assertEqual(personal['databases'], 1)\n",
        "        \n",
        "    def test_02_get_prices_from_url_page3(self):\n",
        "        prices = get_prices_from_url(URL_PAGE3)\n",
        "        self.assertIsInstance(prices, dict)\n",
        "        self.assertEqual(len(prices), 4)\n",
        "        self.assertEqual(\n",
        "            prices['Privilege'],\n",
        "            {'databases': 100, 'price': '$99', 'storage': '1TB'}\n",
        "        )\n",
        "    \n",
        "    def test_03_extract_beer_list_infos(self):\n",
        "        infos = extract_beer_list_infos(URL_BEERLIST_FRANCE)\n",
        "        # We should have 11 French beers:\n",
        "        self.assertIsInstance(infos, list)\n",
        "        self.assertEqual(len(infos), 11)\n",
        "        # All of them are 25cl or 33cl:\n",
        "        for beer in infos:\n",
        "            self.assertIn(beer['volume'], [25, 33])\n",
        "\n",
        "            \n",
        "def run_tests():\n",
        "    test_suite = unittest.makeSuite(Lesson4Tests)\n",
        "    runner = unittest.TextTestRunner(verbosity=2)\n",
        "    runner.run(test_suite)"
      ],
      "execution_count": 7,
      "outputs": []
    },
    {
      "cell_type": "code",
      "metadata": {
        "colab": {
          "base_uri": "https://localhost:8080/"
        },
        "id": "vvDqaSx7cUdv",
        "outputId": "244d04e6-7986-4a57-f63e-824fd5c0a4a0"
      },
      "source": [
        "if __name__ == '__main__':\n",
        "    run_tests()"
      ],
      "execution_count": 14,
      "outputs": [
        {
          "output_type": "stream",
          "name": "stderr",
          "text": [
            "test_01_get_prices_from_url_page2 (__main__.Lesson4Tests) ... ok\n",
            "test_02_get_prices_from_url_page3 (__main__.Lesson4Tests) ... ok\n",
            "test_03_extract_beer_list_infos (__main__.Lesson4Tests) ... ok\n",
            "\n",
            "----------------------------------------------------------------------\n",
            "Ran 3 tests in 2.747s\n",
            "\n",
            "OK\n"
          ]
        }
      ]
    },
    {
      "cell_type": "code",
      "metadata": {
        "id": "HYDEENaZcUdv"
      },
      "source": [
        ""
      ],
      "execution_count": 8,
      "outputs": []
    }
  ]
}